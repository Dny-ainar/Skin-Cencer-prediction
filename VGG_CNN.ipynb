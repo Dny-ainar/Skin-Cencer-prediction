{
 "cells": [
  {
   "cell_type": "code",
   "execution_count": null,
   "metadata": {
    "id": "O_sfd2pfyFHH"
   },
   "outputs": [],
   "source": [
    "import pandas as pd\n",
    "import numpy as np\n",
    "import matplotlib.pyplot as plt\n",
    "import seaborn as sns\n",
    "\n",
    "import tensorflow as tf\n",
    "from tensorflow.keras.models import Sequential\n",
    "from tensorflow.keras.models import Model\n",
    "\n",
    "from tensorflow.keras.layers import Dense, Conv2D, MaxPool2D, Flatten, Dropout, BatchNormalization, Input\n",
    "from tensorflow.keras.applications import VGG16, VGG19\n",
    "\n",
    "import os"
   ]
  },
  {
   "cell_type": "code",
   "execution_count": null,
   "metadata": {
    "id": "vQvt1hR1E6MP"
   },
   "outputs": [],
   "source": [
    "image_path=('/content/drive/MyDrive/Deep Learning/CNN/Skin cancer dataset.zip (Unzipped Files)/Skin cancer dataset')"
   ]
  },
  {
   "cell_type": "code",
   "execution_count": null,
   "metadata": {
    "id": "tS_EKhYzzAe2"
   },
   "outputs": [],
   "source": [
    "test_dir = ('/content/drive/MyDrive/Deep Learning/CNN/Skin cancer dataset.zip (Unzipped Files)/Skin cancer dataset/test')\n",
    "test_benign = ('/content/drive/MyDrive/Deep Learning/CNN/Skin cancer dataset.zip (Unzipped Files)/Skin cancer dataset/test/benign')\n",
    "test_malignant = ('/content/drive/MyDrive/Deep Learning/CNN/Skin cancer dataset.zip (Unzipped Files)/Skin cancer dataset/test/malignant')\n",
    "\n",
    "train_dir = ('/content/drive/MyDrive/Deep Learning/CNN/Skin cancer dataset.zip (Unzipped Files)/Skin cancer dataset/train')\n",
    "train_benign = ('/content/drive/MyDrive/Deep Learning/CNN/Skin cancer dataset.zip (Unzipped Files)/Skin cancer dataset/train/benign')\n",
    "train_malignant = ('/content/drive/MyDrive/Deep Learning/CNN/Skin cancer dataset.zip (Unzipped Files)/Skin cancer dataset/train/malignant')\n",
    "\n",
    "val_dir = ('/content/drive/MyDrive/Deep Learning/CNN/Skin cancer dataset.zip (Unzipped Files)/Skin cancer dataset/validation')\n",
    "val_benign = ('/content/drive/MyDrive/Deep Learning/CNN/Skin cancer dataset.zip (Unzipped Files)/Skin cancer dataset/validation/benign')\n",
    "val_malignant = ('/content/drive/MyDrive/Deep Learning/CNN/Skin cancer dataset.zip (Unzipped Files)/Skin cancer dataset/validation/malignant')"
   ]
  },
  {
   "cell_type": "code",
   "execution_count": null,
   "metadata": {
    "id": "ulPdVIP83UHC"
   },
   "outputs": [],
   "source": [
    "num_test_benign = len(os.listdir(test_benign))\n",
    "num_test_malignant = len(os.listdir(test_malignant))\n",
    "\n",
    "num_traint_benign = len(os.listdir(train_benign))\n",
    "num_train_malignant = len(os.listdir(train_malignant))\n",
    "\n",
    "num_val_benign = len(os.listdir(val_benign))\n",
    "num_val_malignant = len(os.listdir(val_malignant))"
   ]
  },
  {
   "cell_type": "code",
   "execution_count": null,
   "metadata": {
    "colab": {
     "base_uri": "https://localhost:8080/"
    },
    "id": "8iI1TTgIHsIf",
    "outputId": "9024f835-fa0c-4d41-dfdd-3823e8c48903"
   },
   "outputs": [
    {
     "data": {
      "text/plain": [
       "(1140, 937)"
      ]
     },
     "execution_count": 5,
     "metadata": {},
     "output_type": "execute_result"
    }
   ],
   "source": [
    "num_traint_benign,num_train_malignant"
   ]
  },
  {
   "cell_type": "code",
   "execution_count": null,
   "metadata": {
    "colab": {
     "base_uri": "https://localhost:8080/"
    },
    "id": "0QxzNyyOH02_",
    "outputId": "b88cb8a5-77db-41cc-dfae-cc5fbed0ce67"
   },
   "outputs": [
    {
     "data": {
      "text/plain": [
       "(360, 300)"
      ]
     },
     "execution_count": 6,
     "metadata": {},
     "output_type": "execute_result"
    }
   ],
   "source": [
    "num_test_benign,num_test_malignant"
   ]
  },
  {
   "cell_type": "code",
   "execution_count": null,
   "metadata": {
    "colab": {
     "base_uri": "https://localhost:8080/"
    },
    "id": "PmxmN4pXH7ig",
    "outputId": "e381fa14-a1f8-49bd-9f8a-66e22058d2ce"
   },
   "outputs": [
    {
     "data": {
      "text/plain": [
       "(300, 260)"
      ]
     },
     "execution_count": 7,
     "metadata": {},
     "output_type": "execute_result"
    }
   ],
   "source": [
    "num_val_benign,num_val_malignant"
   ]
  },
  {
   "cell_type": "code",
   "execution_count": null,
   "metadata": {
    "colab": {
     "base_uri": "https://localhost:8080/"
    },
    "id": "gm2ejxrDH-8W",
    "outputId": "c0070225-de33-4217-83e5-8aadd7198dca"
   },
   "outputs": [
    {
     "name": "stdout",
     "output_type": "stream",
     "text": [
      "Found 2077 images belonging to 2 classes.\n",
      "Found 560 images belonging to 2 classes.\n",
      "Found 660 images belonging to 2 classes.\n"
     ]
    }
   ],
   "source": [
    "X,Y = 224,224\n",
    "\n",
    "from tensorflow.keras.preprocessing.image import ImageDataGenerator\n",
    "\n",
    "image_gen_train = ImageDataGenerator(rescale  = 1./255,\n",
    "                                    rotation_range=40)\n",
    "train_data_gen = image_gen_train.flow_from_directory(batch_size=64, directory = train_dir, target_size = (224,224),class_mode = 'binary')\n",
    "\n",
    "image_gen_valid = ImageDataGenerator(rescale  = 1./255,\n",
    "                                    rotation_range=40)\n",
    "valid_data_gen = image_gen_valid.flow_from_directory(batch_size=64, directory = val_dir,target_size = (224,224),class_mode = 'binary')\n",
    "\n",
    "image_gen_test = ImageDataGenerator(rescale  = 1./255,\n",
    "                                    rotation_range=40)\n",
    "test_data_gen = image_gen_test.flow_from_directory(batch_size=64, directory = test_dir, target_size = (224,224),class_mode = 'binary')"
   ]
  },
  {
   "cell_type": "code",
   "execution_count": null,
   "metadata": {
    "colab": {
     "base_uri": "https://localhost:8080/"
    },
    "id": "30d7gNNP0QKD",
    "outputId": "eec05591-0dcd-4e3d-b966-8bf26d754b7a"
   },
   "outputs": [
    {
     "name": "stdout",
     "output_type": "stream",
     "text": [
      "Downloading data from https://storage.googleapis.com/tensorflow/keras-applications/vgg16/vgg16_weights_tf_dim_ordering_tf_kernels_notop.h5\n",
      "58892288/58889256 [==============================] - 0s 0us/step\n",
      "58900480/58889256 [==============================] - 0s 0us/step\n"
     ]
    }
   ],
   "source": [
    "vgg16 = VGG16(input_shape = (224,224,3), include_top = False, weights = 'imagenet')"
   ]
  },
  {
   "cell_type": "code",
   "execution_count": null,
   "metadata": {
    "id": "xSIxhdDg0QGi"
   },
   "outputs": [],
   "source": [
    "for layer in vgg16.layers:\n",
    "  layer.trainabel = False\n"
   ]
  },
  {
   "cell_type": "code",
   "execution_count": null,
   "metadata": {
    "id": "oa8y402B0QDt"
   },
   "outputs": [],
   "source": [
    "flatten = Flatten()(vgg16.output)\n",
    "\n",
    "dense = Dense(128, activation = 'relu')(flatten)\n",
    "\n",
    "dense = Dense(64, activation = 'relu')(dense)\n",
    "\n",
    "prediction = Dense(1, activation = 'sigmoid')(dense)"
   ]
  },
  {
   "cell_type": "code",
   "execution_count": null,
   "metadata": {
    "id": "TsZ3So2e0QA0"
   },
   "outputs": [],
   "source": [
    "model = Model(inputs= vgg16.input, outputs=prediction)"
   ]
  },
  {
   "cell_type": "code",
   "execution_count": null,
   "metadata": {
    "colab": {
     "base_uri": "https://localhost:8080/"
    },
    "id": "QvEL9Gaz0P9q",
    "outputId": "1cd2c14f-1707-4d71-9cfe-2f0c2d20700b"
   },
   "outputs": [
    {
     "name": "stdout",
     "output_type": "stream",
     "text": [
      "Model: \"model\"\n",
      "_________________________________________________________________\n",
      " Layer (type)                Output Shape              Param #   \n",
      "=================================================================\n",
      " input_1 (InputLayer)        [(None, 224, 224, 3)]     0         \n",
      "                                                                 \n",
      " block1_conv1 (Conv2D)       (None, 224, 224, 64)      1792      \n",
      "                                                                 \n",
      " block1_conv2 (Conv2D)       (None, 224, 224, 64)      36928     \n",
      "                                                                 \n",
      " block1_pool (MaxPooling2D)  (None, 112, 112, 64)      0         \n",
      "                                                                 \n",
      " block2_conv1 (Conv2D)       (None, 112, 112, 128)     73856     \n",
      "                                                                 \n",
      " block2_conv2 (Conv2D)       (None, 112, 112, 128)     147584    \n",
      "                                                                 \n",
      " block2_pool (MaxPooling2D)  (None, 56, 56, 128)       0         \n",
      "                                                                 \n",
      " block3_conv1 (Conv2D)       (None, 56, 56, 256)       295168    \n",
      "                                                                 \n",
      " block3_conv2 (Conv2D)       (None, 56, 56, 256)       590080    \n",
      "                                                                 \n",
      " block3_conv3 (Conv2D)       (None, 56, 56, 256)       590080    \n",
      "                                                                 \n",
      " block3_pool (MaxPooling2D)  (None, 28, 28, 256)       0         \n",
      "                                                                 \n",
      " block4_conv1 (Conv2D)       (None, 28, 28, 512)       1180160   \n",
      "                                                                 \n",
      " block4_conv2 (Conv2D)       (None, 28, 28, 512)       2359808   \n",
      "                                                                 \n",
      " block4_conv3 (Conv2D)       (None, 28, 28, 512)       2359808   \n",
      "                                                                 \n",
      " block4_pool (MaxPooling2D)  (None, 14, 14, 512)       0         \n",
      "                                                                 \n",
      " block5_conv1 (Conv2D)       (None, 14, 14, 512)       2359808   \n",
      "                                                                 \n",
      " block5_conv2 (Conv2D)       (None, 14, 14, 512)       2359808   \n",
      "                                                                 \n",
      " block5_conv3 (Conv2D)       (None, 14, 14, 512)       2359808   \n",
      "                                                                 \n",
      " block5_pool (MaxPooling2D)  (None, 7, 7, 512)         0         \n",
      "                                                                 \n",
      " flatten (Flatten)           (None, 25088)             0         \n",
      "                                                                 \n",
      " dense (Dense)               (None, 128)               3211392   \n",
      "                                                                 \n",
      " dense_1 (Dense)             (None, 64)                8256      \n",
      "                                                                 \n",
      " dense_2 (Dense)             (None, 1)                 65        \n",
      "                                                                 \n",
      "=================================================================\n",
      "Total params: 17,934,401\n",
      "Trainable params: 17,934,401\n",
      "Non-trainable params: 0\n",
      "_________________________________________________________________\n"
     ]
    }
   ],
   "source": [
    "model.summary()"
   ]
  },
  {
   "cell_type": "code",
   "execution_count": null,
   "metadata": {
    "id": "epGxRMXJ0P6A"
   },
   "outputs": [],
   "source": [
    "Metrics = ['accuracy', tf.keras.metrics.Recall()]"
   ]
  },
  {
   "cell_type": "code",
   "execution_count": null,
   "metadata": {
    "id": "x4LMYc920P1r"
   },
   "outputs": [],
   "source": [
    "model.compile(loss='binary_crossentropy', optimizer = 'adam', metrics = Metrics)"
   ]
  },
  {
   "cell_type": "code",
   "execution_count": null,
   "metadata": {
    "colab": {
     "base_uri": "https://localhost:8080/"
    },
    "id": "hA0CkHkS0Pvr",
    "outputId": "83cd24aa-760f-45d4-b0d0-6c2869d032a1"
   },
   "outputs": [
    {
     "name": "stderr",
     "output_type": "stream",
     "text": [
      "/usr/local/lib/python3.7/dist-packages/ipykernel_launcher.py:1: UserWarning: `Model.fit_generator` is deprecated and will be removed in a future version. Please use `Model.fit`, which supports generators.\n",
      "  \"\"\"Entry point for launching an IPython kernel.\n"
     ]
    },
    {
     "name": "stdout",
     "output_type": "stream",
     "text": [
      "Epoch 1/2\n",
      "33/33 [==============================] - 1925s 58s/step - loss: 1.7713 - accuracy: 0.5190 - recall: 0.3383 - val_loss: 0.6545 - val_accuracy: 0.5357 - val_recall: 0.0000e+00\n",
      "Epoch 2/2\n",
      "33/33 [==============================] - 44s 1s/step - loss: 0.6599 - accuracy: 0.5749 - recall: 0.5155 - val_loss: 0.5301 - val_accuracy: 0.7661 - val_recall: 0.9462\n"
     ]
    }
   ],
   "source": [
    "history = model.fit_generator(train_data_gen, epochs = 2,validation_data = valid_data_gen)"
   ]
  },
  {
   "cell_type": "code",
   "execution_count": null,
   "metadata": {
    "id": "v5tXP5Y-0Poc"
   },
   "outputs": [],
   "source": []
  },
  {
   "cell_type": "code",
   "execution_count": null,
   "metadata": {
    "id": "bImTudAE0PTk"
   },
   "outputs": [],
   "source": []
  },
  {
   "cell_type": "code",
   "execution_count": null,
   "metadata": {
    "id": "kdPCzJh60PJu"
   },
   "outputs": [],
   "source": []
  }
 ],
 "metadata": {
  "accelerator": "GPU",
  "colab": {
   "name": "VGG CNN.ipynb",
   "provenance": []
  },
  "gpuClass": "standard",
  "kernelspec": {
   "display_name": "Python 3 (ipykernel)",
   "language": "python",
   "name": "python3"
  },
  "language_info": {
   "codemirror_mode": {
    "name": "ipython",
    "version": 3
   },
   "file_extension": ".py",
   "mimetype": "text/x-python",
   "name": "python",
   "nbconvert_exporter": "python",
   "pygments_lexer": "ipython3",
   "version": "3.9.7"
  }
 },
 "nbformat": 4,
 "nbformat_minor": 1
}
